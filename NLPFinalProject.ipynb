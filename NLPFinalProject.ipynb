{
 "cells": [
  {
   "cell_type": "code",
   "execution_count": 1,
   "metadata": {},
   "outputs": [],
   "source": [
    "import re\n",
    "import json\n",
    "from collections import Counter\n",
    "import matplotlib.pyplot as plt\n",
    "import numpy as np\n",
    "import string\n",
    "from nltk.tokenize import TweetTokenizer#sentiment dict has possesive apostrophe, so we need a tokenizer that doesnt split on it\n",
    "output_sentiment_length = 500"
   ]
  },
  {
   "cell_type": "code",
   "execution_count": 2,
   "metadata": {},
   "outputs": [
    {
     "name": "stdout",
     "output_type": "stream",
     "text": [
      "3.6.5 |Anaconda, Inc.| (default, Mar 29 2018, 13:32:41) [MSC v.1900 64 bit (AMD64)]\n"
     ]
    }
   ],
   "source": [
    "import sys\n",
    "print (sys.version)"
   ]
  },
  {
   "cell_type": "code",
   "execution_count": 3,
   "metadata": {},
   "outputs": [
    {
     "name": "stderr",
     "output_type": "stream",
     "text": [
      "[nltk_data] Downloading package punkt to\n",
      "[nltk_data]     C:\\Users\\shaul\\AppData\\Roaming\\nltk_data...\n",
      "[nltk_data]   Package punkt is already up-to-date!\n"
     ]
    },
    {
     "data": {
      "text/plain": [
       "True"
      ]
     },
     "execution_count": 3,
     "metadata": {},
     "output_type": "execute_result"
    }
   ],
   "source": [
    "import nltk\n",
    "nltk.download('punkt')"
   ]
  },
  {
   "cell_type": "code",
   "execution_count": 4,
   "metadata": {},
   "outputs": [],
   "source": [
    "from gutenberg.acquire import get_metadata_cache#took about an hour to run for me\n",
    "cache = get_metadata_cache()\n",
    "if not cache.exists:\n",
    "    cache.populate()"
   ]
  },
  {
   "cell_type": "code",
   "execution_count": 5,
   "metadata": {},
   "outputs": [],
   "source": [
    "def get_text(lines):\n",
    "    tokens = []\n",
    "    tokenizer = TweetTokenizer()\n",
    "    for line in lines:\n",
    "        #tokens += tokenizer.tokenize(line)\n",
    "        #tokens += nltk.word_tokenize(line)\n",
    "        tokens += line.split(' ')\n",
    "    tokens = [token.strip(string.punctuation) for token in tokens if len(token)>1 or str.isalpha(token)]\n",
    "    text = str.join(' ', tokens)\n",
    "    return text.strip()"
   ]
  },
  {
   "cell_type": "code",
   "execution_count": 6,
   "metadata": {},
   "outputs": [],
   "source": [
    "def filter_gutenberg(lines):# page 16\n",
    "    success = True\n",
    "    start = -1\n",
    "    end = -1\n",
    "    for i, line in enumerate(lines):\n",
    "        start_location = max(line.find('START OF THIS PROJECT GUTENBERG EBOOK'), line.find('START OF THE PROJECT GUTENBERG EBOOK'))\n",
    "        if start_location != -1:\n",
    "            start = i+1\n",
    "    if start == -1:\n",
    "        for i, line in enumerate(lines[:int(len(lines) / 2)]):\n",
    "            if line.find('END')!=-1 and line.find('SMALL PRINT') != -1:\n",
    "                start = i+1\n",
    "        if start == -1:\n",
    "            success = False\n",
    "            start = 0\n",
    "    for i, line in enumerate(lines):\n",
    "        end_location = max(line.find('END OF THIS PROJECT GUTENBERG EBOOK'), line.find('END OF THE PROJECT GUTENBERG EBOOK'), line.lower().find('end of project gutenberg'))\n",
    "        if end_location != -1:\n",
    "            end = i\n",
    "            break\n",
    "    if end == -1:\n",
    "        for i, line in enumerate(lines[3*int((len(lines)+start)/4):]):\n",
    "            if line.lower().find('end') != -1 and line.lower().find('project gutenberg') != -1:\n",
    "                end = 3*int((len(lines) + start)/4) + i\n",
    "        if end == -1:\n",
    "            for i, line in enumerate(lines[9*int((len(lines)+start)/10):]):\n",
    "                end_location = line.find('THE END')\n",
    "                if end_location != -1:\n",
    "                    end = int(9 * (len(lines) + start)/ 10) + i\n",
    "            if end==-1:\n",
    "                success = False\n",
    "                end = len(lines)\n",
    "    return True, lines[start:end]"
   ]
  },
  {
   "cell_type": "code",
   "execution_count": 7,
   "metadata": {},
   "outputs": [],
   "source": [
    "def get_sentiment_dict():\n",
    "    #regex = re.compile('[^a-zA-Z0-9 ]')\n",
    "    with open('D:\\\\labmt_dataset.json') as data:\n",
    "        json_obj = json.load(data)['objects']\n",
    "    sentiment_dict = {}\n",
    "    for i in range(len(json_obj)):\n",
    "        word = json_obj[i]['word'].lower()\n",
    "        sentiment_dict[word] = json_obj[i]['happs']\n",
    "    return sentiment_dict"
   ]
  },
  {
   "cell_type": "code",
   "execution_count": 8,
   "metadata": {},
   "outputs": [],
   "source": [
    "def hedonometer(sentiment_dict, text, output_length, sample_length, lense = None):\n",
    "    not_detected = set()\n",
    "    overlap = int((len(text) - sample_length-1)/output_length)\n",
    "    if overlap < 1:\n",
    "        print (\"Not enough words to calculate sentiment: \" + str(len(text)))\n",
    "        raise AssertionError(\"Not enough words to calculate sentiment\")\n",
    "    sentiments = []\n",
    "    word_count = 0\n",
    "    sentiment_count = 0\n",
    "    for word in text[:sample_length - overlap]:\n",
    "        word = word.lower()\n",
    "        if word in sentiment_dict:\n",
    "            if lense is None or sentiment_dict[word] <lense[0] or sentiment_dict[word]>lense[1]:\n",
    "                word_count += 1\n",
    "                sentiment_count += sentiment_dict[word]\n",
    "    for i in range(output_length):\n",
    "        for j in range(((i - 1)*overlap + sample_length),(i * overlap + sample_length)):\n",
    "            word = text[j].lower()\n",
    "            if word in sentiment_dict:\n",
    "                if lense is None or sentiment_dict[word] <lense[0] or sentiment_dict[word]>lense[1]:\n",
    "                    word_count += 1\n",
    "                    sentiment_count += sentiment_dict[word]\n",
    "            else:\n",
    "                not_detected.add(word)\n",
    "        if word_count>0:\n",
    "            sentiments.append(sentiment_count/word_count)\n",
    "        else:\n",
    "            if len(sentiments)>0:\n",
    "                sentiments.append(sentiments[-1])\n",
    "            else:\n",
    "                sentiments.apennd(5)\n",
    "        for j in range(i*overlap, (i+1)*overlap):\n",
    "            word = text[j].lower()\n",
    "            if word in sentiment_dict:\n",
    "                if lense is None or sentiment_dict[word] <lense[0] or sentiment_dict[word]>lense[1]:\n",
    "                    word_count -= 1\n",
    "                    sentiment_count -= sentiment_dict[word]\n",
    "    return sentiments"
   ]
  },
  {
   "cell_type": "code",
   "execution_count": 9,
   "metadata": {},
   "outputs": [
    {
     "data": {
      "image/png": "[encoded data removed]",
      "text/plain": [
       "<Figure size 432x288 with 1 Axes>"
      ]
     },
     "metadata": {},
     "output_type": "display_data"
    }
   ],
   "source": [
    "filename = 'D:/harrypotter.txt'\n",
    "#filename = 'D:/university/NLP/ironman.txt'\n",
    "with open(filename, 'r', encoding='windows-1252') as reader:\n",
    "    lines = reader.readlines()\n",
    "\n",
    "text = get_text(lines)\n",
    "text = text.lower().split(' ')\n",
    "sentiment_dict = get_sentiment_dict()\n",
    "plt.plot(hedonometer(sentiment_dict, text, output_sentiment_length, 10000, [3,7]))\n",
    "plt.show()"
   ]
  },
  {
   "cell_type": "code",
   "execution_count": 10,
   "metadata": {},
   "outputs": [],
   "source": [
    "from gutenberg.query import list_supported_metadatas\n",
    "from gutenberg.acquire import load_etext\n",
    "from gutenberg.query import get_metadata"
   ]
  },
  {
   "cell_type": "code",
   "execution_count": 11,
   "metadata": {},
   "outputs": [],
   "source": [
    "with open('D:\\\\university\\\\nlp\\\\bookids.txt') as id_reader:\n",
    "    lines = id_reader.readlines()\n",
    "    ids = [int(line) for line in lines]"
   ]
  },
  {
   "cell_type": "code",
   "execution_count": 12,
   "metadata": {},
   "outputs": [],
   "source": [
    "class TextData:\n",
    "    def __init__(self, name, sentiment, text):\n",
    "        self.name = name\n",
    "        self.sentiment = sentiment\n",
    "        self.text = text"
   ]
  },
  {
   "cell_type": "code",
   "execution_count": 13,
   "metadata": {},
   "outputs": [],
   "source": [
    "def get_gutenberg_text(id):\n",
    "    try:\n",
    "        lines = str.splitlines(load_etext(id))\n",
    "    except:\n",
    "        print ('text with id ' + str(id) + ' does not exist')\n",
    "        return None\n",
    "    success, filtered_lines = filter_gutenberg(lines)\n",
    "    if not success:\n",
    "        print(\"Failed to parse \" + str(id))\n",
    "    text =  get_text(filtered_lines).split(' ')\n",
    "    return text"
   ]
  },
  {
   "cell_type": "code",
   "execution_count": 14,
   "metadata": {},
   "outputs": [],
   "source": [
    "def get_gutenberg_texts(ids):\n",
    "    sentiment_dict = get_sentiment_dict()\n",
    "    textdata = {}\n",
    "    disallowed_title_words = ['stories', 'collection', 'poems', 'complete', 'essays', 'fables', 'tales', 'papers', 'poetry', 'verses', 'ballads', 'sketches', 'vol.', 'vols.', 'works', 'volume', 'other']\n",
    "    for id in ids:\n",
    "        text = get_gutenberg_text(id)\n",
    "        if text is None:\n",
    "            continue\n",
    "        title = 'temp'#list(get_metadata('title', id))[0]\n",
    "        lowered_title = title.lower()\n",
    "        valid_book = True\n",
    "        for word in disallowed_title_words:\n",
    "            if word in lowered_title:\n",
    "                valid_book = False\n",
    "                break\n",
    "        if not valid_book:\n",
    "            continue\n",
    "        try:\n",
    "            sentiment = np.array(hedonometer(sentiment_dict, text, output_sentiment_length, 10000, [3,7]))\n",
    "            data = TextData(title, sentiment, text)\n",
    "            textdata[id] = data\n",
    "        except:\n",
    "            print('failed at ' + str(id))\n",
    "    return textdata\n",
    "        \n",
    "        "
   ]
  },
  {
   "cell_type": "code",
   "execution_count": 15,
   "metadata": {},
   "outputs": [],
   "source": [
    "def plot_gutenberg_book(book_id):\n",
    "    book_data = get_gutenberg_texts([book_id])[book_id]\n",
    "    plt.plot(book_data.sentiment)\n",
    "    plt.title(book_data.name)\n",
    "    plt.show()"
   ]
  },
  {
   "cell_type": "code",
   "execution_count": 16,
   "metadata": {},
   "outputs": [
    {
     "data": {
      "image/png": "[encoded data removed]",
      "text/plain": [
       "<Figure size 432x288 with 1 Axes>"
      ]
     },
     "metadata": {},
     "output_type": "display_data"
    }
   ],
   "source": [
    "plot_gutenberg_book(16605)"
   ]
  },
  {
   "cell_type": "code",
   "execution_count": 17,
   "metadata": {},
   "outputs": [
    {
     "data": {
      "image/png": "[encoded data removed]",
      "text/plain": [
       "<Figure size 432x288 with 1 Axes>"
      ]
     },
     "metadata": {},
     "output_type": "display_data"
    }
   ],
   "source": [
    "plot_gutenberg_book(11)"
   ]
  },
  {
   "cell_type": "code",
   "execution_count": 18,
   "metadata": {},
   "outputs": [
    {
     "name": "stdout",
     "output_type": "stream",
     "text": [
      "Not enough words to calculate sentiment: 9375\n",
      "failed at 71\n",
      "Not enough words to calculate sentiment: 8210\n",
      "failed at 301\n",
      "Not enough words to calculate sentiment: 8641\n",
      "failed at 807\n",
      "Not enough words to calculate sentiment: 7071\n",
      "failed at 932\n",
      "Not enough words to calculate sentiment: 7212\n",
      "failed at 1034\n",
      "Not enough words to calculate sentiment: 8975\n",
      "failed at 1238\n",
      "Not enough words to calculate sentiment: 9216\n",
      "failed at 1642\n",
      "Not enough words to calculate sentiment: 9454\n",
      "failed at 2003\n",
      "Not enough words to calculate sentiment: 8667\n",
      "failed at 2344\n",
      "Not enough words to calculate sentiment: 7315\n",
      "failed at 2345\n",
      "Not enough words to calculate sentiment: 7702\n",
      "failed at 2348\n",
      "Not enough words to calculate sentiment: 10005\n",
      "failed at 2349\n",
      "Not enough words to calculate sentiment: 9889\n",
      "failed at 2373\n",
      "Not enough words to calculate sentiment: 7258\n",
      "failed at 3250\n",
      "Not enough words to calculate sentiment: 7583\n",
      "failed at 4507\n",
      "text with id 5001 does not exist\n",
      "Not enough words to calculate sentiment: 7075\n",
      "failed at 5616\n",
      "Not enough words to calculate sentiment: 9065\n",
      "failed at 5720\n",
      "text with id 5740 does not exist\n",
      "Not enough words to calculate sentiment: 8665\n",
      "failed at 7100\n",
      "Not enough words to calculate sentiment: 8404\n",
      "failed at 7841\n",
      "Not enough words to calculate sentiment: 9656\n",
      "failed at 8578\n",
      "Not enough words to calculate sentiment: 7584\n",
      "failed at 14640\n",
      "Not enough words to calculate sentiment: 9671\n",
      "failed at 14975\n",
      "Not enough words to calculate sentiment: 7177\n",
      "failed at 17192\n",
      "Not enough words to calculate sentiment: 9515\n",
      "failed at 17198\n",
      "Not enough words to calculate sentiment: 9654\n",
      "failed at 17289\n",
      "Not enough words to calculate sentiment: 9748\n",
      "failed at 19033\n",
      "Not enough words to calculate sentiment: 9861\n",
      "failed at 20842\n",
      "Not enough words to calculate sentiment: 6875\n",
      "failed at 21566\n",
      "Not enough words to calculate sentiment: 7221\n",
      "failed at 22189\n",
      "Not enough words to calculate sentiment: 6941\n",
      "failed at 22282\n",
      "Not enough words to calculate sentiment: 7030\n",
      "failed at 22893\n",
      "Not enough words to calculate sentiment: 9058\n",
      "failed at 25609\n",
      "Not enough words to calculate sentiment: 7872\n",
      "failed at 25990\n",
      "Not enough words to calculate sentiment: 9165\n",
      "failed at 26184\n",
      "Not enough words to calculate sentiment: 9839\n",
      "failed at 27013\n",
      "Not enough words to calculate sentiment: 7349\n",
      "failed at 28698\n",
      "Not enough words to calculate sentiment: 8622\n",
      "failed at 28767\n",
      "Not enough words to calculate sentiment: 7713\n",
      "failed at 30017\n",
      "Not enough words to calculate sentiment: 7713\n",
      "failed at 30123\n",
      "Not enough words to calculate sentiment: 8186\n",
      "failed at 30221\n",
      "Not enough words to calculate sentiment: 7839\n",
      "failed at 30255\n",
      "Not enough words to calculate sentiment: 10091\n",
      "failed at 31547\n",
      "Not enough words to calculate sentiment: 10200\n",
      "failed at 31591\n",
      "Not enough words to calculate sentiment: 9083\n",
      "failed at 32472\n",
      "Not enough words to calculate sentiment: 9091\n",
      "failed at 32803\n",
      "Not enough words to calculate sentiment: 7298\n",
      "failed at 32832\n",
      "Not enough words to calculate sentiment: 9480\n",
      "failed at 33447\n",
      "Not enough words to calculate sentiment: 9316\n",
      "failed at 33748\n",
      "Not enough words to calculate sentiment: 7861\n",
      "failed at 36098\n",
      "Not enough words to calculate sentiment: 10321\n",
      "failed at 37103\n",
      "Not enough words to calculate sentiment: 10262\n",
      "failed at 38594\n",
      "Not enough words to calculate sentiment: 9381\n",
      "failed at 39509\n",
      "Not enough words to calculate sentiment: 8723\n",
      "failed at 41064\n",
      "Not enough words to calculate sentiment: 9317\n",
      "failed at 41624\n",
      "Not enough words to calculate sentiment: 8796\n",
      "failed at 42182\n",
      "Not enough words to calculate sentiment: 7893\n",
      "failed at 44932\n",
      "Not enough words to calculate sentiment: 9686\n",
      "failed at 50788\n",
      "Not enough words to calculate sentiment: 7096\n",
      "failed at 50827\n",
      "Not enough words to calculate sentiment: 8601\n",
      "failed at 50848\n",
      "Not enough words to calculate sentiment: 9801\n",
      "failed at 50885\n",
      "Not enough words to calculate sentiment: 9236\n",
      "failed at 50905\n",
      "Not enough words to calculate sentiment: 8697\n",
      "failed at 50928\n",
      "Not enough words to calculate sentiment: 8602\n",
      "failed at 50935\n",
      "Not enough words to calculate sentiment: 8577\n",
      "failed at 50936\n",
      "Not enough words to calculate sentiment: 7272\n",
      "failed at 50945\n",
      "Not enough words to calculate sentiment: 9174\n",
      "failed at 50969\n",
      "Not enough words to calculate sentiment: 9240\n",
      "failed at 50985\n",
      "Not enough words to calculate sentiment: 8034\n",
      "failed at 50986\n",
      "Not enough words to calculate sentiment: 9973\n",
      "failed at 51042\n",
      "Not enough words to calculate sentiment: 6850\n",
      "failed at 51053\n",
      "Not enough words to calculate sentiment: 6804\n",
      "failed at 51055\n",
      "Not enough words to calculate sentiment: 7713\n",
      "failed at 51075\n",
      "Not enough words to calculate sentiment: 6781\n",
      "failed at 51092\n",
      "Not enough words to calculate sentiment: 10247\n",
      "failed at 51103\n",
      "Not enough words to calculate sentiment: 9917\n",
      "failed at 51106\n",
      "Not enough words to calculate sentiment: 10389\n",
      "failed at 51110\n",
      "Not enough words to calculate sentiment: 7808\n",
      "failed at 51115\n",
      "Not enough words to calculate sentiment: 7706\n",
      "failed at 51126\n",
      "Not enough words to calculate sentiment: 7759\n",
      "failed at 51150\n",
      "Not enough words to calculate sentiment: 9630\n",
      "failed at 51152\n",
      "Not enough words to calculate sentiment: 6874\n",
      "failed at 51154\n",
      "Not enough words to calculate sentiment: 9372\n",
      "failed at 51160\n",
      "Not enough words to calculate sentiment: 7124\n",
      "failed at 51167\n",
      "Not enough words to calculate sentiment: 9106\n",
      "failed at 51187\n",
      "Not enough words to calculate sentiment: 6915\n",
      "failed at 51194\n",
      "Not enough words to calculate sentiment: 8539\n",
      "failed at 51201\n"
     ]
    }
   ],
   "source": [
    "texts = get_gutenberg_texts(ids)"
   ]
  },
  {
   "cell_type": "code",
   "execution_count": 19,
   "metadata": {},
   "outputs": [
    {
     "name": "stdout",
     "output_type": "stream",
     "text": [
      "1641\n"
     ]
    }
   ],
   "source": [
    "print(len(texts))"
   ]
  },
  {
   "cell_type": "code",
   "execution_count": 20,
   "metadata": {},
   "outputs": [],
   "source": [
    "import numpy as np\n",
    "def svd_analysis(texts):\n",
    "    input_matrix = np.array(texts)\n",
    "    return np.linalg.svd(input_matrix, full_matrices = False)"
   ]
  },
  {
   "cell_type": "code",
   "execution_count": 21,
   "metadata": {},
   "outputs": [],
   "source": [
    "order_mapping = dict(zip(texts.keys(), list(range(len(texts)))))\n",
    "reverse_order_mapping = dict(zip(list(range(len(texts))), texts.keys()))\n",
    "data = np.array([text.sentiment-np.mean(text.sentiment) for text in texts.values()])"
   ]
  },
  {
   "cell_type": "code",
   "execution_count": 22,
   "metadata": {},
   "outputs": [],
   "source": [
    "u, sigma, v = svd_analysis(data)\n",
    "w= u * sigma # mode coefficients"
   ]
  },
  {
   "cell_type": "code",
   "execution_count": 23,
   "metadata": {},
   "outputs": [],
   "source": [
    "def plot_svd_basis(v):\n",
    "    fig, axes = plt.subplots(4, 3)\n",
    "    for i in range(4):\n",
    "        for j in range(3):\n",
    "            index = 3*i+j\n",
    "            axes[i, j].plot(v[index])\n",
    "            axes[i,j].title.set_text('Mode ' + str(index+1))\n",
    "    plt.tight_layout()\n",
    "    plt.show()"
   ]
  },
  {
   "cell_type": "code",
   "execution_count": null,
   "metadata": {},
   "outputs": [],
   "source": [
    "plot_svd_basis(v)"
   ]
  },
  {
   "cell_type": "code",
   "execution_count": null,
   "metadata": {},
   "outputs": [],
   "source": [
    "np.sum(sigma[:12]**2)/np.sum(sigma**2)#explained variance"
   ]
  },
  {
   "cell_type": "code",
   "execution_count": null,
   "metadata": {},
   "outputs": [],
   "source": [
    "def nearest_neighbors(value, array, nbr_neighbors=1):#https://stackoverflow.com/questions/45742199/find-nearest-neighbors-of-a-numpy-array-in-list-of-numpy-arrays-using-euclidian\n",
    "    return np.argsort(np.array([np.sum(np.abs(value-x)) for x in array]))[:nbr_neighbors]"
   ]
  },
  {
   "cell_type": "code",
   "execution_count": null,
   "metadata": {},
   "outputs": [],
   "source": [
    "def plot_svd_modes(data, v, w):\n",
    "    fig, axes = plt.subplots(2, 3)\n",
    "    fig.set_size_inches(20,10)\n",
    "    for i in range(3):\n",
    "        neighbors = np.argsort(w[:,i])[-20:]\n",
    "        for neighbor in neighbors:\n",
    "            axes[0, i].plot(data[neighbor]/w[neighbor, i], 'gray')\n",
    "        axes[0, i].plot(v[i], 'orange')\n",
    "        neighbors = np.argsort(w[:,i])[:20]\n",
    "        for neighbor in neighbors:\n",
    "            axes[1, i].plot(data[neighbor]/-w[neighbor, i], 'gray')\n",
    "        axes[1, i].plot(-v[i], 'orange')"
   ]
  },
  {
   "cell_type": "code",
   "execution_count": null,
   "metadata": {},
   "outputs": [],
   "source": [
    "plot_svd_modes(data, v, w)"
   ]
  },
  {
   "cell_type": "code",
   "execution_count": null,
   "metadata": {},
   "outputs": [],
   "source": [
    "from sklearn.cluster import AgglomerativeClustering\n",
    "def cluster(data, number_of_clusters):\n",
    "    cluster = AgglomerativeClustering(n_clusters=number_of_clusters, linkage='ward')\n",
    "    prediction = cluster.fit_predict(data)\n",
    "    return prediction"
   ]
  },
  {
   "cell_type": "code",
   "execution_count": null,
   "metadata": {},
   "outputs": [],
   "source": [
    "def show_heirarchical_clustering(data, number_of_clusters, prediction):\n",
    "    cluster_means = []\n",
    "    fig, axes = plt.subplots(int((number_of_clusters-1)/3)+1, 3)\n",
    "    fig.set_size_inches(20,10)\n",
    "    for i in range(int((number_of_clusters-1)/3)+1):\n",
    "        for j in range(3):\n",
    "            if 3*i + j >= number_of_clusters:\n",
    "                continue\n",
    "            relevant_sentiments = np.where(prediction== 3*i + j)\n",
    "            total = np.zeros(output_sentiment_length)\n",
    "            for index in relevant_sentiments[0]:\n",
    "                total += data[index]\n",
    "            mean = total/len(relevant_sentiments[0])\n",
    "            neighbors = nearest_neighbors(mean, data[relevant_sentiments[0]], 20)\n",
    "            for neighbor in neighbors:\n",
    "                if len(axes.shape)>1:\n",
    "                    axes[i, j].plot(data[relevant_sentiments[0]][neighbor], 'gray')\n",
    "                else:\n",
    "                    axes[j].plot(data[relevant_sentiments[0]][neighbor], 'gray')\n",
    "            if len(axes.shape)>1:\n",
    "                axes[i, j].plot(mean, 'orange')\n",
    "                axes[i, j].title.set_text(str(len(relevant_sentiments[0])))\n",
    "            else:\n",
    "                axes[j].plot(mean, 'orange')\n",
    "                axes[j].title.set_text(str(len(relevant_sentiments[0])))\n",
    "            cluster_means.append(mean)\n",
    "    return cluster_means\n",
    "    "
   ]
  },
  {
   "cell_type": "code",
   "execution_count": null,
   "metadata": {
    "scrolled": true
   },
   "outputs": [],
   "source": [
    "number_of_clusters = 9\n",
    "predictions = cluster(data, number_of_clusters)\n",
    "cluster_means = show_heirarchical_clustering(data, number_of_clusters, predictions)"
   ]
  },
  {
   "cell_type": "code",
   "execution_count": null,
   "metadata": {},
   "outputs": [],
   "source": [
    "from scipy.cluster.hierarchy import dendrogram,linkage\n",
    "fig = plt.figure(figsize=(25, 10))\n",
    "fit = linkage(data,metric='euclidean',method='ward')\n",
    "dn = dendrogram(fit)\n",
    "plt.show()"
   ]
  },
  {
   "cell_type": "code",
   "execution_count": null,
   "metadata": {},
   "outputs": [],
   "source": [
    "def get_cluster_svd_correlation(w, predictions):\n",
    "    modes = []\n",
    "    for i in range(w.shape[0]):\n",
    "        svd_mode = np.argmax(np.abs(w[i, :]))\n",
    "        if np.sign(w[i, svd_mode]) < 0:\n",
    "            modes.append(-svd_mode - 1)\n",
    "        else:\n",
    "            modes.append(svd_mode)\n",
    "    color_map = np.zeros((6, number_of_clusters))\n",
    "    for i in range(len(predictions)):\n",
    "        if -3<=modes[i]<3:\n",
    "            color_map[modes[i]+3, predictions[i]] += 1\n",
    "    for i in range(color_map.shape[1]):\n",
    "        color_map[:, i]/=np.sum(color_map[ :, i])\n",
    "    print(color_map)\n",
    "    plt.matshow(color_map, cmap=plt.get_cmap('Blues'))\n",
    "    plt.show()\n",
    "    return modes"
   ]
  },
  {
   "cell_type": "code",
   "execution_count": null,
   "metadata": {},
   "outputs": [],
   "source": [
    "modes = get_cluster_svd_correlation(w, predictions)"
   ]
  },
  {
   "cell_type": "code",
   "execution_count": null,
   "metadata": {},
   "outputs": [],
   "source": [
    "#https://rubikscode.net/2018/08/27/implementing-self-organizing-maps-with-python-and-tensorflow/\n",
    "from minisom import MiniSom\n",
    "map_size = 8\n",
    "som = MiniSom(map_size, map_size, 500)\n",
    "som.train_random(data, 5000)\n",
    "label_map = som.labels_map(data, modes)"
   ]
  },
  {
   "cell_type": "code",
   "execution_count": null,
   "metadata": {},
   "outputs": [],
   "source": [
    "plt.bone()\n",
    "plt.matshow(som.distance_map())\n",
    "plt.colorbar()\n",
    "plt.show()"
   ]
  },
  {
   "cell_type": "code",
   "execution_count": null,
   "metadata": {},
   "outputs": [],
   "source": [
    "def plot_clustering_som_correlation(map_size, label_map):\n",
    "    fig, axes = plt.subplots(2, 3)\n",
    "    for sub_plot in range(3):\n",
    "        color_map = np.zeros((map_size, map_size))\n",
    "        for i in range(color_map.shape[0]):\n",
    "            for j in range(color_map.shape[1]):\n",
    "                color_map[i][j] = label_map[(i, j)][sub_plot]\n",
    "                axes[0, sub_plot].imshow(color_map, cmap=plt.get_cmap('Blues'))\n",
    "        color_map = np.zeros((map_size, map_size))\n",
    "        for i in range(color_map.shape[0]):\n",
    "            for j in range(color_map.shape[1]):\n",
    "                color_map[i][j] = label_map[(i, j)][-sub_plot-1]\n",
    "                axes[1, sub_plot].imshow(color_map, cmap=plt.get_cmap('Blues'))\n",
    "    plt.show()"
   ]
  },
  {
   "cell_type": "code",
   "execution_count": null,
   "metadata": {},
   "outputs": [],
   "source": [
    "plot_clustering_som_correlation(map_size, label_map)"
   ]
  },
  {
   "cell_type": "code",
   "execution_count": null,
   "metadata": {},
   "outputs": [],
   "source": [
    "help(MiniSom)"
   ]
  },
  {
   "cell_type": "code",
   "execution_count": null,
   "metadata": {},
   "outputs": [],
   "source": [
    "import csv\n",
    "import sys\n",
    "movie_scripts = {}\n",
    "sentiment_dict = get_sentiment_dict()\n",
    "csv.field_size_limit(100000000)\n",
    "with open(r'D:\\university\\NLP\\movies-and-movie-scripts\\moviedataset.csv', encoding='utf8') as csv_file:\n",
    "    csv_reader = csv.reader(csv_file, delimiter=',')\n",
    "    row_count = 0\n",
    "    for row in csv_reader:\n",
    "        if row_count > 0:\n",
    "            lines = str.splitlines(row[-1])\n",
    "            text= get_text(lines).split(' ')\n",
    "            try:\n",
    "                movie_scripts[int(row[0])] = TextData(row[3], hedonometer(sentiment_dict, text, output_sentiment_length, 1150, [3,7]), text)\n",
    "            except:\n",
    "                print('failed at ' + row[0])\n",
    "        else:\n",
    "            None\n",
    "        row_count += 1\n",
    "            \n",
    "        "
   ]
  },
  {
   "cell_type": "code",
   "execution_count": null,
   "metadata": {},
   "outputs": [],
   "source": [
    "print(np.mean([len(book.text) for book in texts.values()]))\n",
    "print(np.mean([len(movie.text) for movie in movie_scripts.values()]))"
   ]
  },
  {
   "cell_type": "code",
   "execution_count": null,
   "metadata": {},
   "outputs": [],
   "source": [
    "len(movie_scripts)"
   ]
  },
  {
   "cell_type": "code",
   "execution_count": null,
   "metadata": {},
   "outputs": [],
   "source": [
    "movie_index = 757\n",
    "plt.plot(movie_scripts[movie_index].sentiment)\n",
    "plt.title(movie_scripts[movie_index].name)\n",
    "plt.show()"
   ]
  },
  {
   "cell_type": "code",
   "execution_count": null,
   "metadata": {},
   "outputs": [],
   "source": [
    "[(id,movie_scripts[id].name) for id in movie_scripts]"
   ]
  },
  {
   "cell_type": "code",
   "execution_count": null,
   "metadata": {},
   "outputs": [],
   "source": [
    "order_mapping2 = dict(zip(movie_scripts.keys(), list(range(len(movie_scripts)))))\n",
    "reverse_order_mapping2 = dict(zip(list(range(len(movie_scripts))), movie_scripts.keys()))\n",
    "data2 = np.array([movie.sentiment-np.mean(movie.sentiment) for movie in movie_scripts.values()])"
   ]
  },
  {
   "cell_type": "code",
   "execution_count": null,
   "metadata": {},
   "outputs": [],
   "source": [
    "u2, sigma2, v2 = svd_analysis(data2)\n",
    "w2= u2 * sigma2 # mode coefficients"
   ]
  },
  {
   "cell_type": "code",
   "execution_count": null,
   "metadata": {},
   "outputs": [],
   "source": [
    "plot_svd_basis(v2)"
   ]
  },
  {
   "cell_type": "code",
   "execution_count": null,
   "metadata": {},
   "outputs": [],
   "source": [
    "np.sum(sigma2[:12]**2)/np.sum(sigma2**2)#explained variance"
   ]
  },
  {
   "cell_type": "code",
   "execution_count": null,
   "metadata": {},
   "outputs": [],
   "source": [
    "plot_svd_modes(data2, v2, w2)"
   ]
  },
  {
   "cell_type": "code",
   "execution_count": null,
   "metadata": {},
   "outputs": [],
   "source": [
    "number_of_clusters = 9\n",
    "movie_predictions = cluster(data2, number_of_clusters)\n",
    "cluster_means_movies = show_heirarchical_clustering(data2, number_of_clusters, movie_predictions)"
   ]
  },
  {
   "cell_type": "code",
   "execution_count": null,
   "metadata": {},
   "outputs": [],
   "source": [
    "modes_movies = get_cluster_svd_correlation(w2, movie_predictions)"
   ]
  },
  {
   "cell_type": "code",
   "execution_count": null,
   "metadata": {},
   "outputs": [],
   "source": [
    "#https://rubikscode.net/2018/08/27/implementing-self-organizing-maps-with-python-and-tensorflow/\n",
    "from minisom import MiniSom\n",
    "map_size = 8\n",
    "som = MiniSom(map_size, map_size, 500)\n",
    "som.train_random(data2, 5000)\n",
    "label_map_movies = som.labels_map(data2, modes_movies)"
   ]
  },
  {
   "cell_type": "code",
   "execution_count": null,
   "metadata": {},
   "outputs": [],
   "source": [
    "plot_clustering_som_correlation(map_size, label_map_movies)"
   ]
  },
  {
   "cell_type": "code",
   "execution_count": null,
   "metadata": {},
   "outputs": [],
   "source": []
  }
 ],
 "metadata": {
  "kernelspec": {
   "display_name": "Python 3",
   "language": "python",
   "name": "python3"
  },
  "language_info": {
   "codemirror_mode": {
    "name": "ipython",
    "version": 3
   },
   "file_extension": ".py",
   "mimetype": "text/x-python",
   "name": "python",
   "nbconvert_exporter": "python",
   "pygments_lexer": "ipython3",
   "version": "3.6.5"
  }
 },
 "nbformat": 4,
 "nbformat_minor": 2
}
